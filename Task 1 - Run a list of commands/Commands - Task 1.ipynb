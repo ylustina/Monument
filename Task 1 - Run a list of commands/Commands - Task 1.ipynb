{
 "cells": [
  {
   "cell_type": "markdown",
   "metadata": {},
   "source": [
    "Execute all commands at the same time\n",
    "\n",
    "\n",
    "Display report with\n",
    "\n",
    "    - Total elapsed time\n",
    "    - Average, maximum, minimum execution time among all commands\n",
    "\n",
    "\n",
    "Processes started with Popen must be poll()ed to make sure they're finished"
   ]
  },
  {
   "cell_type": "code",
   "execution_count": null,
   "metadata": {
    "collapsed": true
   },
   "outputs": [],
   "source": [
    "from  subprocess import Popen, PIPE"
   ]
  },
  {
   "cell_type": "code",
   "execution_count": null,
   "metadata": {
    "collapsed": true
   },
   "outputs": [],
   "source": []
  },
  {
   "cell_type": "code",
   "execution_count": null,
   "metadata": {
    "collapsed": true
   },
   "outputs": [],
   "source": [
    "\n",
    "commands = [\n",
    "    'sleep 3',\n",
    "    'ls -l /',\n",
    "    'find /',\n",
    "    'sleep 4',\n",
    "    'find /usr',\n",
    "    'date',\n",
    "    'sleep 5',\n",
    "    'uptime'\n",
    "]\n"
   ]
  },
  {
   "cell_type": "code",
   "execution_count": null,
   "metadata": {
    "collapsed": true
   },
   "outputs": [],
   "source": []
  }
 ],
 "metadata": {
  "kernelspec": {
   "display_name": "Python 3",
   "language": "python",
   "name": "python3"
  },
  "language_info": {
   "codemirror_mode": {
    "name": "ipython",
    "version": 3
   },
   "file_extension": ".py",
   "mimetype": "text/x-python",
   "name": "python",
   "nbconvert_exporter": "python",
   "pygments_lexer": "ipython3",
   "version": "3.6.4"
  }
 },
 "nbformat": 4,
 "nbformat_minor": 2
}

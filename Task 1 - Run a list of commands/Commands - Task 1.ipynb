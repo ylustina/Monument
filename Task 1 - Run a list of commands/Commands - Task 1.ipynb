{
 "cells": [
  {
   "cell_type": "code",
   "execution_count": 1,
   "metadata": {
    "collapsed": true
   },
   "outputs": [],
   "source": [
    "import time\n",
    "import tempfile\n",
    "import pandas as pd\n",
    "import subprocess as sp"
   ]
  },
  {
   "cell_type": "code",
   "execution_count": 2,
   "metadata": {
    "collapsed": true
   },
   "outputs": [],
   "source": [
    "commands = [\n",
    "    'sleep 3',    # 0\n",
    "    'ls -l /',    # 1\n",
    "    'find /',     # 2\n",
    "    'sleep 4',    # 3\n",
    "    'find /usr',  # 4\n",
    "    'date',       # 5\n",
    "    'sleep 5',    # 6\n",
    "    'uptime'      # 7\n",
    "]"
   ]
  },
  {
   "cell_type": "code",
   "execution_count": 3,
   "metadata": {
    "collapsed": true
   },
   "outputs": [],
   "source": [
    "processes = []\n",
    "\n",
    "times = {}\n",
    "\n",
    "start_time = time.time()"
   ]
  },
  {
   "cell_type": "code",
   "execution_count": 4,
   "metadata": {},
   "outputs": [],
   "source": [
    "for command in commands:\n",
    "    processes.append(sp.Popen(command, shell=True, \n",
    "                              stdout=tempfile.TemporaryFile()))"
   ]
  },
  {
   "cell_type": "markdown",
   "metadata": {},
   "source": [
    "8 processes open:"
   ]
  },
  {
   "cell_type": "code",
   "execution_count": 5,
   "metadata": {
    "scrolled": false
   },
   "outputs": [
    {
     "data": {
      "text/plain": [
       "[<subprocess.Popen at 0x112786a90>,\n",
       " <subprocess.Popen at 0x112786b00>,\n",
       " <subprocess.Popen at 0x112786b38>,\n",
       " <subprocess.Popen at 0x112786a58>,\n",
       " <subprocess.Popen at 0x112786b70>,\n",
       " <subprocess.Popen at 0x112786ba8>,\n",
       " <subprocess.Popen at 0x112786be0>,\n",
       " <subprocess.Popen at 0x112786c18>]"
      ]
     },
     "execution_count": 5,
     "metadata": {},
     "output_type": "execute_result"
    }
   ],
   "source": [
    "processes"
   ]
  },
  {
   "cell_type": "code",
   "execution_count": 6,
   "metadata": {},
   "outputs": [],
   "source": [
    "while len(processes) > 0:\n",
    "    for i, process in enumerate(processes):\n",
    "          if type(processes[i].poll()) is int:\n",
    "              times[process.args] = (time.time() - start_time)\n",
    "              processes.pop(i)"
   ]
  },
  {
   "cell_type": "code",
   "execution_count": 7,
   "metadata": {},
   "outputs": [
    {
     "data": {
      "text/plain": [
       "{'date': 7.7045252323150635,\n",
       " 'find /': 35.11039328575134,\n",
       " 'find /usr': 7.704708099365234,\n",
       " 'ls -l /': 7.704687118530273,\n",
       " 'sleep 3': 7.704016208648682,\n",
       " 'sleep 4': 7.704425096511841,\n",
       " 'sleep 5': 7.704737186431885,\n",
       " 'uptime': 7.704660177230835}"
      ]
     },
     "execution_count": 7,
     "metadata": {},
     "output_type": "execute_result"
    }
   ],
   "source": [
    "times"
   ]
  },
  {
   "cell_type": "markdown",
   "metadata": {
    "collapsed": true
   },
   "source": [
    "--------"
   ]
  },
  {
   "cell_type": "code",
   "execution_count": 8,
   "metadata": {
    "collapsed": true
   },
   "outputs": [],
   "source": [
    "import pandas as pd"
   ]
  },
  {
   "cell_type": "code",
   "execution_count": 9,
   "metadata": {},
   "outputs": [
    {
     "data": {
      "text/plain": [
       "count     8.000000\n",
       "mean     11.130269\n",
       "std       9.689433\n",
       "min       7.704016\n",
       "25%       7.704500\n",
       "50%       7.704674\n",
       "75%       7.704715\n",
       "max      35.110393\n",
       "dtype: float64"
      ]
     },
     "execution_count": 9,
     "metadata": {},
     "output_type": "execute_result"
    }
   ],
   "source": [
    "times_series = pd.Series(times)\n",
    "times_series.describe()"
   ]
  },
  {
   "cell_type": "markdown",
   "metadata": {},
   "source": [
    "OR"
   ]
  },
  {
   "cell_type": "code",
   "execution_count": 10,
   "metadata": {},
   "outputs": [
    {
     "name": "stdout",
     "output_type": "stream",
     "text": [
      "89.04215240478516\n"
     ]
    }
   ],
   "source": [
    "total_elapsed = print(sum(times.values()))"
   ]
  },
  {
   "cell_type": "code",
   "execution_count": 11,
   "metadata": {
    "scrolled": true
   },
   "outputs": [
    {
     "name": "stdout",
     "output_type": "stream",
     "text": [
      "11.130269050598145\n"
     ]
    }
   ],
   "source": [
    "mean = print(sum(times.values())/len(times))"
   ]
  },
  {
   "cell_type": "code",
   "execution_count": 12,
   "metadata": {},
   "outputs": [
    {
     "name": "stdout",
     "output_type": "stream",
     "text": [
      "35.11039328575134\n"
     ]
    }
   ],
   "source": [
    "maximum = print(max(times.values()))"
   ]
  },
  {
   "cell_type": "code",
   "execution_count": 13,
   "metadata": {},
   "outputs": [
    {
     "name": "stdout",
     "output_type": "stream",
     "text": [
      "7.704016208648682\n"
     ]
    }
   ],
   "source": [
    "minimum = print(min(times.values()))"
   ]
  },
  {
   "cell_type": "code",
   "execution_count": null,
   "metadata": {
    "collapsed": true
   },
   "outputs": [],
   "source": []
  }
 ],
 "metadata": {
  "kernelspec": {
   "display_name": "Python 3",
   "language": "python",
   "name": "python3"
  },
  "language_info": {
   "codemirror_mode": {
    "name": "ipython",
    "version": 3
   },
   "file_extension": ".py",
   "mimetype": "text/x-python",
   "name": "python",
   "nbconvert_exporter": "python",
   "pygments_lexer": "ipython3",
   "version": "3.6.4"
  }
 },
 "nbformat": 4,
 "nbformat_minor": 2
}

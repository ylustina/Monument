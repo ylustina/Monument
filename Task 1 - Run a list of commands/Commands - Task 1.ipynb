{
 "cells": [
  {
   "cell_type": "markdown",
   "metadata": {},
   "source": [
    "#### PIPE\n",
    "PIPE indicates that a new pipe to the child should be created.\n",
    "\n",
    "The default setting is \"None\", which means that no redirection will occur.\n",
    "\n",
    "The standard error (or stderr) can be STDOUT, which indicates that the stderr data from the child process should be captured into the same file handle as for stdout."
   ]
  },
  {
   "cell_type": "markdown",
   "metadata": {},
   "source": [
    "#### Popen( )\n",
    "\n",
    "The underlying process creation and management in the subprocess module is handled by the Popen class. subprocess.Popen takes a list of arguments.\n",
    "\n",
    "p = subprocess.Popen([\"echo\", \"hello world\"], stdout=subprocess.PIPE)\n",
    "\n",
    "print p.communicate()\n",
    "\n",
    "->>>('hello world\n",
    "', None)\n",
    "\n",
    "\n"
   ]
  },
  {
   "cell_type": "markdown",
   "metadata": {},
   "source": [
    "-------\n",
    "\n",
    "Execute all commands at the same time\n",
    "\n",
    "\n",
    "Display report with\n",
    "\n",
    "    - Total elapsed time\n",
    "    - Average, maximum, minimum execution time among all commands\n",
    "\n",
    "\n",
    "Processes started with Popen must be poll()ed to make sure they're finished\n",
    "\n",
    "------"
   ]
  },
  {
   "cell_type": "code",
   "execution_count": 1,
   "metadata": {
    "collapsed": true
   },
   "outputs": [],
   "source": [
    "from  subprocess import Popen, PIPE"
   ]
  },
  {
   "cell_type": "code",
   "execution_count": null,
   "metadata": {
    "collapsed": true
   },
   "outputs": [],
   "source": []
  },
  {
   "cell_type": "code",
   "execution_count": null,
   "metadata": {
    "collapsed": true
   },
   "outputs": [],
   "source": [
    "\n",
    "commands = [\n",
    "    'sleep 3',\n",
    "    'ls -l /',\n",
    "    'find /',\n",
    "    'sleep 4',\n",
    "    'find /usr',\n",
    "    'date',\n",
    "    'sleep 5',\n",
    "    'uptime'\n",
    "]\n"
   ]
  },
  {
   "cell_type": "code",
   "execution_count": null,
   "metadata": {
    "collapsed": true
   },
   "outputs": [],
   "source": []
  }
 ],
 "metadata": {
  "kernelspec": {
   "display_name": "Python 3",
   "language": "python",
   "name": "python3"
  },
  "language_info": {
   "codemirror_mode": {
    "name": "ipython",
    "version": 3
   },
   "file_extension": ".py",
   "mimetype": "text/x-python",
   "name": "python",
   "nbconvert_exporter": "python",
   "pygments_lexer": "ipython3",
   "version": "3.6.4"
  }
 },
 "nbformat": 4,
 "nbformat_minor": 2
}

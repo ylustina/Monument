{
 "cells": [
  {
   "cell_type": "code",
   "execution_count": 1,
   "metadata": {
    "collapsed": true
   },
   "outputs": [],
   "source": [
    "import time\n",
    "import tempfile\n",
    "import pandas as pd\n",
    "import subprocess as sp"
   ]
  },
  {
   "cell_type": "code",
   "execution_count": 2,
   "metadata": {
    "collapsed": true
   },
   "outputs": [],
   "source": [
    "commands = [\n",
    "    'sleep 3',    # 0\n",
    "    'ls -l /',    # 1\n",
    "    'find /',     # 2\n",
    "    'sleep 4',    # 3\n",
    "    'find /usr',  # 4\n",
    "    'date',       # 5\n",
    "    'sleep 5',    # 6\n",
    "    'uptime'      # 7\n",
    "]"
   ]
  },
  {
   "cell_type": "code",
   "execution_count": 3,
   "metadata": {
    "collapsed": true
   },
   "outputs": [],
   "source": [
    "processes = []\n",
    "times = {}\n",
    "\n",
    "start_time = time.time()"
   ]
  },
  {
   "cell_type": "markdown",
   "metadata": {},
   "source": [
    "Opening a process for each command:"
   ]
  },
  {
   "cell_type": "code",
   "execution_count": 4,
   "metadata": {},
   "outputs": [],
   "source": [
    "for command in commands:\n",
    "    processes.append(sp.Popen(command, shell=True, \n",
    "                              stdout=tempfile.TemporaryFile()))"
   ]
  },
  {
   "cell_type": "markdown",
   "metadata": {},
   "source": [
    "8 processes open:"
   ]
  },
  {
   "cell_type": "code",
   "execution_count": 5,
   "metadata": {
    "scrolled": true
   },
   "outputs": [
    {
     "data": {
      "text/plain": [
       "[<subprocess.Popen at 0x1127859b0>,\n",
       " <subprocess.Popen at 0x112785978>,\n",
       " <subprocess.Popen at 0x112785a20>,\n",
       " <subprocess.Popen at 0x1127859e8>,\n",
       " <subprocess.Popen at 0x112785a58>,\n",
       " <subprocess.Popen at 0x112785a90>,\n",
       " <subprocess.Popen at 0x112785ac8>,\n",
       " <subprocess.Popen at 0x112785b00>]"
      ]
     },
     "execution_count": 5,
     "metadata": {},
     "output_type": "execute_result"
    }
   ],
   "source": [
    "processes"
   ]
  },
  {
   "cell_type": "markdown",
   "metadata": {},
   "source": []
  },
  {
   "cell_type": "code",
   "execution_count": 6,
   "metadata": {},
   "outputs": [],
   "source": [
    "while len(processes) > 0:\n",
    "    for i, process in enumerate(processes):\n",
    "          if type(process.poll()) is int:\n",
    "              times[process.args] = (time.time() - start_time)\n",
    "              processes.pop(i)"
   ]
  },
  {
   "cell_type": "code",
   "execution_count": 7,
   "metadata": {},
   "outputs": [
    {
     "data": {
      "text/plain": [
       "{'date': 3.0962212085723877,\n",
       " 'find /': 32.8226113319397,\n",
       " 'find /usr': 3.096011161804199,\n",
       " 'ls -l /': 3.0959672927856445,\n",
       " 'sleep 3': 3.556401252746582,\n",
       " 'sleep 4': 4.569220066070557,\n",
       " 'sleep 5': 5.582646131515503,\n",
       " 'uptime': 3.0960402488708496}"
      ]
     },
     "execution_count": 7,
     "metadata": {},
     "output_type": "execute_result"
    }
   ],
   "source": [
    "times"
   ]
  },
  {
   "cell_type": "markdown",
   "metadata": {
    "collapsed": true
   },
   "source": [
    "--------"
   ]
  },
  {
   "cell_type": "code",
   "execution_count": 9,
   "metadata": {},
   "outputs": [
    {
     "name": "stdout",
     "output_type": "stream",
     "text": [
      "58.91511869430542\n"
     ]
    }
   ],
   "source": [
    "total_elapsed = print(sum(times.values()))"
   ]
  },
  {
   "cell_type": "code",
   "execution_count": 10,
   "metadata": {},
   "outputs": [
    {
     "data": {
      "text/plain": [
       "count     8.000000\n",
       "mean      7.364390\n",
       "std      10.326692\n",
       "min       3.095967\n",
       "25%       3.096033\n",
       "50%       3.326311\n",
       "75%       4.822577\n",
       "max      32.822611\n",
       "dtype: float64"
      ]
     },
     "execution_count": 10,
     "metadata": {},
     "output_type": "execute_result"
    }
   ],
   "source": [
    "times_series = pd.Series(times)\n",
    "times_series.describe()"
   ]
  },
  {
   "cell_type": "markdown",
   "metadata": {},
   "source": [
    "**Total elapsed time:** 58.91s\n",
    "\n",
    "**Average:** 7.36s\n",
    "\n",
    "**Minimum:** 3.09 - 'ls -l /'\n",
    "\n",
    "**Maximum:** 32.82s - 'find /'"
   ]
  }
 ],
 "metadata": {
  "kernelspec": {
   "display_name": "Python 3",
   "language": "python",
   "name": "python3"
  },
  "language_info": {
   "codemirror_mode": {
    "name": "ipython",
    "version": 3
   },
   "file_extension": ".py",
   "mimetype": "text/x-python",
   "name": "python",
   "nbconvert_exporter": "python",
   "pygments_lexer": "ipython3",
   "version": "3.6.4"
  }
 },
 "nbformat": 4,
 "nbformat_minor": 2
}

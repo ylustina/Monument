{
 "cells": [
  {
   "cell_type": "code",
   "execution_count": 1,
   "metadata": {
    "collapsed": true
   },
   "outputs": [],
   "source": [
    "import time\n",
    "import tempfile\n",
    "import pandas as pd\n",
    "import subprocess as sp"
   ]
  },
  {
   "cell_type": "code",
   "execution_count": 2,
   "metadata": {
    "collapsed": true
   },
   "outputs": [],
   "source": [
    "commands = [\n",
    "    'sleep 3',    # 0\n",
    "    'ls -l /',    # 1\n",
    "    'find /',     # 2\n",
    "    'sleep 4',    # 3\n",
    "    'find /usr',  # 4\n",
    "    'date',       # 5\n",
    "    'sleep 5',    # 6\n",
    "    'uptime'      # 7\n",
    "]"
   ]
  },
  {
   "cell_type": "markdown",
   "metadata": {},
   "source": [
    "Create an empty times dictionary for commands and their corresponding times, later to be filled in by the while loop. \n",
    "\n",
    "Opening a process for each command."
   ]
  },
  {
   "cell_type": "code",
   "execution_count": 3,
   "metadata": {
    "collapsed": true
   },
   "outputs": [],
   "source": [
    "processes = []\n",
    "times = {}\n",
    "\n",
    "start_time = time.time()"
   ]
  },
  {
   "cell_type": "markdown",
   "metadata": {},
   "source": [
    "Standard output goes into a tempfile."
   ]
  },
  {
   "cell_type": "code",
   "execution_count": 4,
   "metadata": {
    "collapsed": true
   },
   "outputs": [],
   "source": [
    "for command in commands:\n",
    "    processes.append(sp.Popen(command, shell=True, \n",
    "                              stdout=tempfile.TemporaryFile()))"
   ]
  },
  {
   "cell_type": "markdown",
   "metadata": {},
   "source": [
    "8 processes open:"
   ]
  },
  {
   "cell_type": "code",
   "execution_count": 5,
   "metadata": {
    "scrolled": true
   },
   "outputs": [
    {
     "data": {
      "text/plain": [
       "[<subprocess.Popen at 0x11277ea58>,\n",
       " <subprocess.Popen at 0x11277ea90>,\n",
       " <subprocess.Popen at 0x11277ea20>,\n",
       " <subprocess.Popen at 0x11277e9e8>,\n",
       " <subprocess.Popen at 0x11277eac8>,\n",
       " <subprocess.Popen at 0x11277eb00>,\n",
       " <subprocess.Popen at 0x11277eb38>,\n",
       " <subprocess.Popen at 0x11277eb70>]"
      ]
     },
     "execution_count": 5,
     "metadata": {},
     "output_type": "execute_result"
    }
   ],
   "source": [
    "processes"
   ]
  },
  {
   "cell_type": "markdown",
   "metadata": {},
   "source": [
    "Runs the processes. After each process is finished, the stop time is recorded in the times dictionary, and the process is popped from the list."
   ]
  },
  {
   "cell_type": "code",
   "execution_count": 6,
   "metadata": {
    "collapsed": true
   },
   "outputs": [],
   "source": [
    "while len(processes) > 0:\n",
    "    for i, process in enumerate(processes):\n",
    "          if type(process.poll()) is int:\n",
    "              times[process.args] = (time.time() - start_time)\n",
    "              processes.pop(i)"
   ]
  },
  {
   "cell_type": "code",
   "execution_count": 7,
   "metadata": {
    "scrolled": true
   },
   "outputs": [
    {
     "data": {
      "text/plain": [
       "{'date': 0.0702509880065918,\n",
       " 'find /': 32.29328799247742,\n",
       " 'find /usr': 1.0698528289794922,\n",
       " 'ls -l /': 0.07007694244384766,\n",
       " 'sleep 3': 3.017436981201172,\n",
       " 'sleep 4': 4.030109882354736,\n",
       " 'sleep 5': 5.042240858078003,\n",
       " 'uptime': 0.07033109664916992}"
      ]
     },
     "execution_count": 7,
     "metadata": {},
     "output_type": "execute_result"
    }
   ],
   "source": [
    "times"
   ]
  },
  {
   "cell_type": "markdown",
   "metadata": {
    "collapsed": true
   },
   "source": [
    "--------"
   ]
  },
  {
   "cell_type": "code",
   "execution_count": 8,
   "metadata": {},
   "outputs": [
    {
     "name": "stdout",
     "output_type": "stream",
     "text": [
      "45.66358757019043\n"
     ]
    }
   ],
   "source": [
    "total_elapsed = print(sum(times.values()))"
   ]
  },
  {
   "cell_type": "code",
   "execution_count": 9,
   "metadata": {
    "scrolled": true
   },
   "outputs": [
    {
     "data": {
      "text/plain": [
       "count     8.000000\n",
       "mean      5.707948\n",
       "std      10.916183\n",
       "min       0.070077\n",
       "25%       0.070311\n",
       "50%       2.043645\n",
       "75%       4.283143\n",
       "max      32.293288\n",
       "dtype: float64"
      ]
     },
     "execution_count": 9,
     "metadata": {},
     "output_type": "execute_result"
    }
   ],
   "source": [
    "times_series = pd.Series(times)\n",
    "times_series.describe()"
   ]
  },
  {
   "cell_type": "markdown",
   "metadata": {},
   "source": [
    "**Total elapsed time:** 45.66s \n",
    "\n",
    "**Average:** 5.70s \n",
    "\n",
    "**Minimum:** 0.07 - 'ls -l /'\n",
    "\n",
    "**Maximum:** 32.29s - 'find /'"
   ]
  }
 ],
 "metadata": {
  "kernelspec": {
   "display_name": "Python 3",
   "language": "python",
   "name": "python3"
  },
  "language_info": {
   "codemirror_mode": {
    "name": "ipython",
    "version": 3
   },
   "file_extension": ".py",
   "mimetype": "text/x-python",
   "name": "python",
   "nbconvert_exporter": "python",
   "pygments_lexer": "ipython3",
   "version": "3.6.4"
  }
 },
 "nbformat": 4,
 "nbformat_minor": 2
}
